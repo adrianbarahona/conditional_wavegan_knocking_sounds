{
 "cells": [
  {
   "cell_type": "markdown",
   "metadata": {},
   "source": [
    "## Synthesising single samples from a trained model"
   ]
  },
  {
   "cell_type": "code",
   "execution_count": null,
   "metadata": {},
   "outputs": [],
   "source": [
    "import tensorflow as tf\n",
    "import numpy as np\n",
    "import json\n",
    "from IPython.display import display, Audio\n",
    "from tqdm import tqdm\n",
    "import librosa"
   ]
  },
  {
   "cell_type": "markdown",
   "metadata": {},
   "source": [
    "#### Get the trained model and class labels"
   ]
  },
  {
   "cell_type": "code",
   "execution_count": null,
   "metadata": {},
   "outputs": [],
   "source": [
    "path_to_generator = 'generator.h5'\n",
    "path_to_labels = 'label_names.json'\n",
    "z_dim = 100\n",
    "sample_rate = 16000"
   ]
  },
  {
   "cell_type": "code",
   "execution_count": null,
   "metadata": {},
   "outputs": [],
   "source": [
    "#load the generator\n",
    "generator = tf.keras.models.load_model(path_to_generator)"
   ]
  },
  {
   "cell_type": "code",
   "execution_count": null,
   "metadata": {},
   "outputs": [],
   "source": [
    "#read the labels from the generated dictionary during training\n",
    "with open(path_to_labels) as json_file:\n",
    "    label_names = json.load(json_file)\n",
    "label_names"
   ]
  },
  {
   "cell_type": "markdown",
   "metadata": {},
   "source": [
    "#### Generating a single sample (with label)"
   ]
  },
  {
   "cell_type": "code",
   "execution_count": null,
   "metadata": {},
   "outputs": [],
   "source": [
    "#create noise and label\n",
    "label = 0\n",
    "noise = np.random.normal(0,1, (1, z_dim))\n",
    "label_synth = np.array(label).reshape(-1,1)\n",
    "\n",
    "#synthesise the audio\n",
    "%time synth_audio = generator.predict([noise, label_synth])\n",
    "\n",
    "#listen to the synthesised audio\n",
    "display(Audio(np.squeeze(synth_audio[0]), rate = sample_rate))"
   ]
  },
  {
   "cell_type": "markdown",
   "metadata": {},
   "source": [
    "### Batch generation"
   ]
  },
  {
   "cell_type": "code",
   "execution_count": null,
   "metadata": {},
   "outputs": [],
   "source": [
    "#how many samples per label\n",
    "n_samples_label = 5"
   ]
  },
  {
   "cell_type": "code",
   "execution_count": null,
   "metadata": {},
   "outputs": [],
   "source": [
    "for emotion in label_names:\n",
    "    noise  = tf.random.normal(shape=(n_samples_label, z_dim))\n",
    "    label_synth = tf.constant(int(emotion), shape=(n_samples_label,1))\n",
    "    synth_audio = generator.predict([noise, label_synth])\n",
    "    for i in tqdm(range(n_samples_label)):\n",
    "        librosa.output.write_wav(f'{label_names[emotion]}_{i}.wav', y = synth_audio[0], sr = sample_rate, norm=False) "
   ]
  },
  {
   "cell_type": "code",
   "execution_count": null,
   "metadata": {},
   "outputs": [],
   "source": []
  }
 ],
 "metadata": {
  "kernelspec": {
   "display_name": "Python 3",
   "language": "python",
   "name": "python3"
  },
  "language_info": {
   "codemirror_mode": {
    "name": "ipython",
    "version": 3
   },
   "file_extension": ".py",
   "mimetype": "text/x-python",
   "name": "python",
   "nbconvert_exporter": "python",
   "pygments_lexer": "ipython3",
   "version": "3.6.9"
  }
 },
 "nbformat": 4,
 "nbformat_minor": 4
}
